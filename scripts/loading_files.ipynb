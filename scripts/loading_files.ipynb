{
  "nbformat": 4,
  "nbformat_minor": 0,
  "metadata": {
    "colab": {
      "provenance": [],
      "authorship_tag": "ABX9TyN+EJUP+jpR0JRdJARtEMJF",
      "include_colab_link": true
    },
    "kernelspec": {
      "name": "python3",
      "display_name": "Python 3"
    },
    "language_info": {
      "name": "python"
    }
  },
  "cells": [
    {
      "cell_type": "markdown",
      "metadata": {
        "id": "view-in-github",
        "colab_type": "text"
      },
      "source": [
        "<a href=\"https://colab.research.google.com/github/pkondacs/datapipes/blob/main/scripts/loading_files.ipynb\" target=\"_parent\"><img src=\"https://colab.research.google.com/assets/colab-badge.svg\" alt=\"Open In Colab\"/></a>"
      ]
    },
    {
      "cell_type": "markdown",
      "source": [
        "Printing out the contents of the Github folder"
      ],
      "metadata": {
        "id": "YU8okLSiI3eE"
      }
    },
    {
      "cell_type": "code",
      "source": [
        "import requests\n",
        "\n",
        "# The API endpoint for contents of the repository\n",
        "api_url = \"https://api.github.com/repos/pkondacs/datapipes/contents/config\"\n",
        "\n",
        "# Send a GET request to the GitHub API URL\n",
        "response = requests.get(api_url)\n",
        "\n",
        "# Check if the request was successful\n",
        "if response.status_code == 200:\n",
        "    # Parse the JSON response\n",
        "    directory_listing = response.json()\n",
        "\n",
        "    # Print out the file names\n",
        "    for file in directory_listing:\n",
        "        print(file['name'])\n",
        "else:\n",
        "    print(f\"Failed to retrieve the directory listing. Status code: {response.status_code}\")"
      ],
      "metadata": {
        "colab": {
          "base_uri": "https://localhost:8080/"
        },
        "id": "rKbu1Z52DG-q",
        "outputId": "6dc455e3-145b-4bec-8efb-c027e7950d49"
      },
      "execution_count": 13,
      "outputs": [
        {
          "output_type": "stream",
          "name": "stdout",
          "text": [
            "data_load_config.json\n",
            "database_config.yml\n"
          ]
        }
      ]
    },
    {
      "cell_type": "markdown",
      "source": [
        "Importing files using a config file"
      ],
      "metadata": {
        "id": "ig0e6eDWI_-k"
      }
    },
    {
      "cell_type": "code",
      "source": [
        "import pandas as pd\n",
        "import requests\n",
        "import json\n",
        "\n",
        "class CSVImporter:\n",
        "    def __init__(self, config_url):\n",
        "        # Send a GET request to the GitHub API URL\n",
        "        response = requests.get(config_url)\n",
        "        if response.status_code == 200:\n",
        "            # Parse the JSON response to get the config\n",
        "            self.configs = response.json()\n",
        "        else:\n",
        "            print(f\"Failed to retrieve the configuration file. Status code: {response.status_code}\")\n",
        "            self.file_name = None\n",
        "            self.url = None\n",
        "            self.columns = None\n",
        "\n",
        "    def import_all(self):\n",
        "        dataframes = {}\n",
        "        for config in self.configs:\n",
        "            file_name = config['file_name']\n",
        "            url = config['location']\n",
        "            columns = config['columns']\n",
        "            try:\n",
        "                df = pd.read_csv(url + \"/\" + file_name, usecols=columns)\n",
        "                dataframes[file_name] = df\n",
        "            except Exception as e:\n",
        "                print(f\"An error occurred while importing {file_name}: {e}\")\n",
        "        return dataframes\n",
        "\n",
        "# Usage\n",
        "config_url = 'https://raw.githubusercontent.com/pkondacs/datapipes/main/config/data_load_config.json'  # Replace with the actual URL to your JSON config file\n",
        "importer = CSVImporter(config_url)\n",
        "dataframes_dict = importer.import_all()\n",
        "\n",
        "print()\n",
        "\n",
        "# Display the first few rows of each dataframe\n",
        "for file_name, df in dataframes_dict.items():\n",
        "    print(f\"First few rows of {file_name}:\")\n",
        "    print(df.head())"
      ],
      "metadata": {
        "colab": {
          "base_uri": "https://localhost:8080/"
        },
        "id": "_-nTs2I2HeY6",
        "outputId": "8a3246b6-4dec-4710-dc61-674fef7fbb77"
      },
      "execution_count": 4,
      "outputs": [
        {
          "output_type": "stream",
          "name": "stdout",
          "text": [
            "\n",
            "First few rows of collaterals.csv:\n",
            "   collateral_id         type  orig_value\n",
            "0              1  Real Estate       21761\n",
            "1              2   Securities        9982\n",
            "2              3         Cash       22004\n",
            "3              4   Securities       22593\n",
            "4              5   Securities       18706\n",
            "First few rows of facilities.csv:\n",
            "   facility_id  counterparty_id  start_date end_date   facility_type  amount\n",
            "0            1                1  22/04/2020      NaN        Mortgage    2576\n",
            "1            2                2  08/02/2023      NaN       Term Loan   58169\n",
            "2            3                3  13/12/2023      NaN  Line of Credit   81874\n",
            "3            4                4  14/02/2015      NaN        Mortgage    4822\n",
            "4            5                5  05/12/2016      NaN       Term Loan   16904\n"
          ]
        }
      ]
    }
  ]
}