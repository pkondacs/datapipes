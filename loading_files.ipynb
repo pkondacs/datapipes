{
  "nbformat": 4,
  "nbformat_minor": 0,
  "metadata": {
    "colab": {
      "provenance": [],
      "authorship_tag": "ABX9TyM3wLDZqAf1LrKRPA+eHdIL",
      "include_colab_link": true
    },
    "kernelspec": {
      "name": "python3",
      "display_name": "Python 3"
    },
    "language_info": {
      "name": "python"
    }
  },
  "cells": [
    {
      "cell_type": "markdown",
      "metadata": {
        "id": "view-in-github",
        "colab_type": "text"
      },
      "source": [
        "<a href=\"https://colab.research.google.com/github/pkondacs/datapipes/blob/main/loading_files.ipynb\" target=\"_parent\"><img src=\"https://colab.research.google.com/assets/colab-badge.svg\" alt=\"Open In Colab\"/></a>"
      ]
    },
    {
      "cell_type": "markdown",
      "source": [
        "Printing out the contents of the Github folder"
      ],
      "metadata": {
        "id": "YU8okLSiI3eE"
      }
    },
    {
      "cell_type": "code",
      "source": [
        "import requests\n",
        "\n",
        "# The API endpoint for contents of the repository\n",
        "api_url = \"https://api.github.com/repos/pkondacs/datapipes/contents/config\"\n",
        "\n",
        "# Send a GET request to the GitHub API URL\n",
        "response = requests.get(api_url)\n",
        "\n",
        "# Check if the request was successful\n",
        "if response.status_code == 200:\n",
        "    # Parse the JSON response\n",
        "    directory_listing = response.json()\n",
        "\n",
        "    # Print out the file names\n",
        "    for file in directory_listing:\n",
        "        print(file['name'])\n",
        "else:\n",
        "    print(f\"Failed to retrieve the directory listing. Status code: {response.status_code}\")"
      ],
      "metadata": {
        "colab": {
          "base_uri": "https://localhost:8080/"
        },
        "id": "rKbu1Z52DG-q",
        "outputId": "6dc455e3-145b-4bec-8efb-c027e7950d49"
      },
      "execution_count": 13,
      "outputs": [
        {
          "output_type": "stream",
          "name": "stdout",
          "text": [
            "data_load_config.json\n",
            "database_config.yml\n"
          ]
        }
      ]
    },
    {
      "cell_type": "markdown",
      "source": [
        "Importing files using a config file"
      ],
      "metadata": {
        "id": "ig0e6eDWI_-k"
      }
    },
    {
      "cell_type": "code",
      "source": [
        "import pandas as pd\n",
        "import requests\n",
        "import json\n",
        "\n",
        "class CSVImporter:\n",
        "    def __init__(self, config_url):\n",
        "        # Send a GET request to the GitHub API URL\n",
        "        response = requests.get(config_url)\n",
        "        if response.status_code == 200:\n",
        "            # Parse the JSON response to get the config\n",
        "            config = response.json()\n",
        "            # If the content is encoded with base64, you need to decode it\n",
        "            # content_base64 = config['content']\n",
        "            # content_decoded = base64.b64decode(content_base64)\n",
        "            # config = json.loads(content_decoded)\n",
        "            self.file_name = config['CSVImporter']['file_name']\n",
        "            self.url = config['CSVImporter']['location']\n",
        "            self.columns = config['CSVImporter']['columns']\n",
        "        else:\n",
        "            print(f\"Failed to retrieve the configuration file. Status code: {response.status_code}\")\n",
        "            self.file_name = None\n",
        "            self.url = None\n",
        "            self.columns = None\n",
        "\n",
        "    def to_dataframe(self):\n",
        "        # Check if the URL and columns were set correctly\n",
        "        if self.url and self.columns:\n",
        "            try:\n",
        "                df = pd.read_csv(self.url + \"/\" + self.file_name, usecols=self.columns)\n",
        "                return df\n",
        "            except Exception as e:\n",
        "                print(f\"An error occurred while importing the CSV file: {e}\")\n",
        "                return None\n",
        "        else:\n",
        "            print(\"CSV Importer is not configured properly.\")\n",
        "            return None\n",
        "\n",
        "# Usage\n",
        "config_url = 'https://raw.githubusercontent.com/pkondacs/datapipes/main/config/data_load_config.json'  # Replace with the actual URL to your JSON config file\n",
        "importer = CSVImporter(config_url)\n",
        "collaterals_df = importer.to_dataframe()\n",
        "\n",
        "# If you want to display the first few rows of the dataframe, you can use:\n",
        "if collaterals_df is not None:\n",
        "    print(collaterals_df.head())\n"
      ],
      "metadata": {
        "colab": {
          "base_uri": "https://localhost:8080/"
        },
        "id": "_-nTs2I2HeY6",
        "outputId": "f19d622d-a115-4f03-f28f-d2bb65a3cc87"
      },
      "execution_count": 19,
      "outputs": [
        {
          "output_type": "stream",
          "name": "stdout",
          "text": [
            "https://raw.githubusercontent.com/pkondacs/datapipes/main/data\n",
            "   collateral_id         type  orig_value\n",
            "0              1  Real Estate       21761\n",
            "1              2   Securities        9982\n",
            "2              3         Cash       22004\n",
            "3              4   Securities       22593\n",
            "4              5   Securities       18706\n"
          ]
        }
      ]
    }
  ]
}