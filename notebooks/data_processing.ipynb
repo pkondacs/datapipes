# Contains Jupyter notebooks for data processing and transformation.
import pandas as pd

# Parameters
username = 'your_username'
repository_name = 'your_repository'
dataset_name = 'your_dataset.csv'

# URL of the raw CSV file on GitHub
csv_url = f'https://raw.githubusercontent.com/{username}/{repository_name}/master/{dataset_name}'

# Read the CSV file into a pandas DataFrame
df = pd.read_csv(csv_url)

# Display the DataFrame
display(df)
