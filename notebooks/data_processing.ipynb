import pandas as pd

username = 'your_username'
repository_name = 'your_repository'
dataset_name = 'your_dataset.csv'

csv_url = f'https://raw.githubusercontent.com/{username}/{repository_name}/master/{dataset_name}'

df = pd.read_csv(csv_url)

display(df)
