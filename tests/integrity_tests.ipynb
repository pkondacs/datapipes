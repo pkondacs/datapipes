include integrity tests for the created tables
